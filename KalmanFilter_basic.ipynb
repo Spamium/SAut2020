{
 "cells": [
  {
   "cell_type": "code",
   "execution_count": 9,
   "metadata": {},
   "outputs": [],
   "source": [
    "#rom numpy import *\n",
    "import numpy as np\n",
    "from numpy.linalg import inv\n",
    "\n",
    "\n",
    "from numpy import dot, sum, tile, linalg, log, pi, exp\n",
    "from numpy.linalg import inv, det\n",
    "\n",
    "def kf_predict(X, P, A, Q, B, U):\n",
    "    X = dot(A, X) + dot(B, U)                 \n",
    "    P = dot(A, dot(P, A.T)) + Q\n",
    "    return(X, P)\n",
    "\n",
    "def gauss_pdf(X, M, S):\n",
    "    if M.shape[1] == 1:\n",
    "        DX = X - tile(M, X.shape[1])\n",
    "        E = 0.5 * sum(DX * (dot(inv(S), DX)), axis=0)\n",
    "        E - E + 0.5 * M.shape[0] * log(2 * pi) + 0.5 * log(det(S))\n",
    "        P = exp(-E)\n",
    "    elif X.shape[1] == 1:\n",
    "        DX = tile(X, M.shape[1] - M)\n",
    "        E = 0.5 * sum(DX * (dot(inv(S), DX)), axis =0)\n",
    "        E = E + 0.5 * M.shape[0] * log(2 * pi) + 0.5 * log(det(S))\n",
    "        P = exp(-E)\n",
    "    else:\n",
    "        DX = X - M\n",
    "        E = 0.5 * dot(DX.T, dot(inv(S), DX))\n",
    "        E = E + 0.5 * M.shape[0] * log(2 * pi) + 0.5 * log(det(S))\n",
    "        P = exp(-E)\n",
    "    return (P[0],E[0])\n",
    "\n",
    "def kf_update(X, P, Y, H, R):\n",
    "    IM = dot(H, X)\n",
    "    IS = R + dot(H, dot(P, H.T))\n",
    "    K = dot(P, dot(H.T, inv(IS)))\n",
    "    X = X + dot(K, (Y-IM))\n",
    "    P = P - dot(K, dot(IS, K.T))\n",
    "    LH = gauss_pdf(Y, IM, IS)\n",
    "    return (X,P,K,IM,IS,LH)\n"
   ]
  },
  {
   "cell_type": "code",
   "execution_count": 10,
   "metadata": {},
   "outputs": [
    {
     "name": "stdout",
     "output_type": "stream",
     "text": [
      "[[0.29352787]\n",
      " [0.14480904]]\n",
      "[[0.41033768]\n",
      " [0.21025101]]\n",
      "[[0.55322827]\n",
      " [0.25708717]]\n",
      "[[0.54241808]\n",
      " [0.46685546]]\n",
      "[[0.58425079]\n",
      " [0.45610939]]\n",
      "[[0.59928269]\n",
      " [0.44363717]]\n",
      "[[0.72985379]\n",
      " [0.69250525]]\n",
      "[[0.80636425]\n",
      " [0.61415357]]\n",
      "[[0.78280744]\n",
      " [0.65110366]]\n",
      "[[0.88491687]\n",
      " [0.76153462]]\n",
      "[[0.92003193]\n",
      " [0.80992209]]\n",
      "[[1.09462646]\n",
      " [0.81431075]]\n",
      "[[1.15173013]\n",
      " [0.85928864]]\n",
      "[[1.21231196]\n",
      " [0.95260814]]\n",
      "[[1.22000404]\n",
      " [0.92966687]]\n",
      "[[1.23079374]\n",
      " [0.99836745]]\n",
      "[[1.25293962]\n",
      " [1.00296652]]\n",
      "[[1.31867668]\n",
      " [1.02018134]]\n",
      "[[1.486787  ]\n",
      " [1.15201715]]\n",
      "[[1.47851059]\n",
      " [1.31525956]]\n",
      "[[1.48253832]\n",
      " [1.26894974]]\n",
      "[[1.50950422]\n",
      " [1.36915762]]\n",
      "[[1.52414518]\n",
      " [1.37515411]]\n",
      "[[1.55766477]\n",
      " [1.41674959]]\n",
      "[[1.62395056]\n",
      " [1.49762869]]\n",
      "[[1.68571065]\n",
      " [1.62110159]]\n",
      "[[1.70307463]\n",
      " [1.59745231]]\n",
      "[[1.72705314]\n",
      " [1.66016049]]\n",
      "[[1.76140823]\n",
      " [1.76531154]]\n",
      "[[1.80238566]\n",
      " [1.76495395]]\n",
      "[[1.97693607]\n",
      " [1.87421515]]\n",
      "[[1.96358098]\n",
      " [1.85851221]]\n",
      "[[2.0825898]\n",
      " [1.9475094]]\n",
      "[[2.12197857]\n",
      " [1.9874535 ]]\n",
      "[[2.17150846]\n",
      " [2.17727594]]\n",
      "[[2.19249076]\n",
      " [2.28855088]]\n",
      "[[2.25028683]\n",
      " [2.29606146]]\n",
      "[[2.52054307]\n",
      " [2.41096275]]\n",
      "[[2.59848608]\n",
      " [2.52828101]]\n",
      "[[2.59570087]\n",
      " [2.60526361]]\n",
      "[[2.67997091]\n",
      " [2.80686734]]\n",
      "[[2.69228001]\n",
      " [2.77211577]]\n",
      "[[2.93522166]\n",
      " [2.82631987]]\n",
      "[[2.89978404]\n",
      " [2.95450807]]\n",
      "[[3.00609173]\n",
      " [2.97187944]]\n",
      "[[3.0260711 ]\n",
      " [3.09960542]]\n",
      "[[3.28421519]\n",
      " [3.11816974]]\n",
      "[[3.2932186 ]\n",
      " [3.21715105]]\n",
      "[[3.30735215]\n",
      " [3.3171129 ]]\n",
      "[[3.47941086]\n",
      " [3.33799917]]\n"
     ]
    }
   ],
   "source": [
    "\n",
    "# time step of mobile movement\n",
    "dt = 0.1\n",
    "\n",
    "# Initialization of state matrices\n",
    "X = np.array([[0.0], [0.0], [0.1], [0.1]])\n",
    "P = np.diag((0.01, 0.01, 0.01, 0.01))\n",
    "A = np.array([[1, 0, dt, 0], [0, 1, 0, dt], [0, 0, 1, 0], [0, 0, 0, 1]])\n",
    "Q = np.eye(X.shape[0])\n",
    "B = np.eye(X.shape[0])\n",
    "U = np.zeros((X.shape[0],1))\n",
    "\n",
    "# Measurement matrices\n",
    "Y = np.array([[X[0,0] + abs(np.random.randn(1)[0])], [X[1,0] + abs(np.random.randn(1)[0])]])\n",
    "H = np.array([[1, 0, 0 , 0], [0, 1, 0, 0]])\n",
    "R = np.eye(Y.shape[0])\n",
    "\n",
    "# Number of iterations in Kalman Filter\n",
    "N_iter = 50\n",
    "\n",
    "# Applying the Kalman Filter\n",
    "for i in range(0, N_iter):\n",
    "    (X, P) = kf_predict(X, P, A, Q, B, U)\n",
    "    (X, P, K, IM, IS, LH)  = kf_update(X, P, Y, H, R)\n",
    "    Y = np.array([[X[0,0] + abs(0.1 * np.random.randn(1)[0])], [X[1, 0] + abs(0.1 * np.random.randn(1)[0])]])\n",
    "    print (Y)#queria ver o output"
   ]
  },
  {
   "cell_type": "code",
   "execution_count": 11,
   "metadata": {},
   "outputs": [
    {
     "data": {
      "text/plain": [
       "array([[1. , 0. , 0. , 0. ],\n",
       "       [0. , 1. , 0. , 0. ],\n",
       "       [0.1, 0. , 1. , 0. ],\n",
       "       [0. , 0.1, 0. , 1. ]])"
      ]
     },
     "execution_count": 11,
     "metadata": {},
     "output_type": "execute_result"
    }
   ],
   "source": [
    "A.T\n"
   ]
  },
  {
   "cell_type": "code",
   "execution_count": 12,
   "metadata": {},
   "outputs": [
    {
     "data": {
      "text/plain": [
       "array([[1. , 0. , 0.1, 0. ],\n",
       "       [0. , 1. , 0. , 0.1],\n",
       "       [0. , 0. , 1. , 0. ],\n",
       "       [0. , 0. , 0. , 1. ]])"
      ]
     },
     "execution_count": 12,
     "metadata": {},
     "output_type": "execute_result"
    }
   ],
   "source": [
    "A"
   ]
  },
  {
   "cell_type": "code",
   "execution_count": null,
   "metadata": {},
   "outputs": [],
   "source": []
  }
 ],
 "metadata": {
  "kernelspec": {
   "display_name": "Python 3",
   "language": "python",
   "name": "python3"
  },
  "language_info": {
   "codemirror_mode": {
    "name": "ipython",
    "version": 3
   },
   "file_extension": ".py",
   "mimetype": "text/x-python",
   "name": "python",
   "nbconvert_exporter": "python",
   "pygments_lexer": "ipython3",
   "version": "3.7.9"
  }
 },
 "nbformat": 4,
 "nbformat_minor": 4
}
